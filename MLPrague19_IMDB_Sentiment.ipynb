{
 "cells": [
  {
   "cell_type": "markdown",
   "metadata": {
    "colab_type": "text",
    "id": "bQpja1DZ-9Ph"
   },
   "source": [
    "# Sentiment Analysis on IMDb Reviews"
   ]
  },
  {
   "cell_type": "markdown",
   "metadata": {
    "colab_type": "text",
    "id": "DG1vlcCxUwqj"
   },
   "source": [
    "Welcome to google collab! If you are not familiar with the collab notebooks, I hope You will be positively surprised :)\n",
    "\n",
    "Please:\n",
    "\n",
    "- Copy this notebook into Your own drive (File->Save a copy to drive)\n",
    "- Look into this original notebook any way you wish, it does contain our saved run\n",
    "- Feel free to select Runtime->Change runtime type into a GPU accelerated workstation :)\n",
    "- Run it"
   ]
  },
  {
   "cell_type": "code",
   "execution_count": 1,
   "metadata": {
    "colab": {},
    "colab_type": "code",
    "id": "0FPVcrx9-9Pm"
   },
   "outputs": [],
   "source": [
    "from __future__ import print_function, division"
   ]
  },
  {
   "cell_type": "markdown",
   "metadata": {
    "colab_type": "text",
    "id": "VPWLzHje-9Ps"
   },
   "source": [
    "Download and extract the IMDB sentiment dataset:"
   ]
  },
  {
   "cell_type": "code",
   "execution_count": 4,
   "metadata": {
    "colab": {
     "base_uri": "https://localhost:8080/",
     "height": 204
    },
    "colab_type": "code",
    "id": "abO-VAHX_hF3",
    "outputId": "52022184-83ff-4e12-9b17-76bd8d0b40ac"
   },
   "outputs": [
    {
     "name": "stdout",
     "output_type": "stream",
     "text": [
      "--2019-02-22 09:25:30--  http://ai.stanford.edu/~amaas/data/sentiment/aclImdb_v1.tar.gz\n",
      "Resolving ai.stanford.edu (ai.stanford.edu)... 171.64.68.10\n",
      "Connecting to ai.stanford.edu (ai.stanford.edu)|171.64.68.10|:80... connected.\n",
      "HTTP request sent, awaiting response... 200 OK\n",
      "Length: 84125825 (80M) [application/x-gzip]\n",
      "Saving to: ‘aclImdb_v1.tar.gz’\n",
      "\n",
      "aclImdb_v1.tar.gz   100%[===================>]  80.23M  1.21MB/s    in 61s     \n",
      "\n",
      "2019-02-22 09:26:32 (1.32 MB/s) - ‘aclImdb_v1.tar.gz’ saved [84125825/84125825]\n",
      "\n"
     ]
    }
   ],
   "source": [
    "!    wget http://ai.stanford.edu/~amaas/data/sentiment/aclImdb_v1.tar.gz\n",
    "!    tar xfz aclImdb_v1.tar.gz"
   ]
  },
  {
   "cell_type": "markdown",
   "metadata": {
    "colab_type": "text",
    "id": "ZQXlpBLB-9Pv"
   },
   "source": [
    "First, we pre-process the dataset, converting each review to a sequence of word index numbers."
   ]
  },
  {
   "cell_type": "code",
   "execution_count": 5,
   "metadata": {
    "colab": {
     "base_uri": "https://localhost:8080/",
     "height": 34
    },
    "colab_type": "code",
    "id": "T3CrPOmM-9Pw",
    "outputId": "4f2688f0-6b76-4c5a-ef59-67f9ca098eb7"
   },
   "outputs": [
    {
     "name": "stdout",
     "output_type": "stream",
     "text": [
      "5000 words in vocabulary\n"
     ]
    }
   ],
   "source": [
    "# Vocabulary: All words used, starting by the most frequent\n",
    "with open('aclImdb/imdb.vocab') as f:\n",
    "    vocab = [word.rstrip() for word in f]\n",
    "    # Keep only most frequent 5000 words rather than all 90000\n",
    "    # Just saving memory - the long tail occurs too few times\n",
    "    # for the model to learn anything anyway\n",
    "    vocab = vocab[:5000]\n",
    "    print('%d words in vocabulary' % (len(vocab),))"
   ]
  },
  {
   "cell_type": "code",
   "execution_count": 6,
   "metadata": {
    "colab": {},
    "colab_type": "code",
    "id": "dh3XRMRf-9P3"
   },
   "outputs": [],
   "source": [
    "import re\n",
    "\n",
    "def text_tokens(text):\n",
    "    text = text.lower()\n",
    "    text = re.sub(\"\\\\s\", \" \", text)\n",
    "    text = re.sub(\"[^a-zA-Z' ]\", \"\", text)\n",
    "    tokens = text.split(' ')\n",
    "    return tokens"
   ]
  },
  {
   "cell_type": "code",
   "execution_count": 7,
   "metadata": {
    "colab": {},
    "colab_type": "code",
    "id": "ZDwrjCef-9P7"
   },
   "outputs": [],
   "source": [
    "import os\n",
    "\n",
    "def load_dataset(dirname):\n",
    "    X, y = [], []\n",
    "    # Review files: neg/0_3.txt neg/10000_4.txt neg/10001_4.txt ...\n",
    "    for y_val, y_label in enumerate(['neg', 'pos']):\n",
    "        y_dir = os.path.join(dirname, y_label)\n",
    "        for fname in os.listdir(y_dir):\n",
    "            fpath = os.path.join(y_dir, fname)\n",
    "            # print('\\r' + fpath + '   ', end='')\n",
    "            with open(fpath) as f:\n",
    "                tokens = text_tokens(f.read())\n",
    "            X.append(tokens)\n",
    "            y.append(y_val)  # 0 for 'neg', 1 for 'pos'\n",
    "    print()\n",
    "    return X, y"
   ]
  },
  {
   "cell_type": "code",
   "execution_count": 8,
   "metadata": {
    "colab": {
     "base_uri": "https://localhost:8080/",
     "height": 51
    },
    "colab_type": "code",
    "id": "Dk5yi6O7-9P_",
    "outputId": "a8392fa6-6802-4873-b75a-1dbc5d54ce9a",
    "scrolled": true
   },
   "outputs": [
    {
     "name": "stdout",
     "output_type": "stream",
     "text": [
      "\n",
      "\n"
     ]
    }
   ],
   "source": [
    "X_train, y_train = load_dataset('aclImdb/train/')\n",
    "\n",
    "# We are cheating here - this is a test set, not a validation set.\n",
    "# This is just to make results quickly comparable to outside results\n",
    "# during the tutorial, but you should normally never use the test set\n",
    "# during training, of course!\n",
    "X_val, y_val = load_dataset('aclImdb/test/')"
   ]
  },
  {
   "cell_type": "code",
   "execution_count": 9,
   "metadata": {
    "colab": {
     "base_uri": "https://localhost:8080/",
     "height": 34
    },
    "colab_type": "code",
    "id": "i0Kyi8xV-9QE",
    "outputId": "809522e5-9c46-4742-e06b-e4eb6db9a7fc"
   },
   "outputs": [
    {
     "data": {
      "text/plain": [
       "(25000, 25000)"
      ]
     },
     "execution_count": 9,
     "metadata": {},
     "output_type": "execute_result"
    }
   ],
   "source": [
    "len(X_train), len(X_val)"
   ]
  },
  {
   "cell_type": "markdown",
   "metadata": {
    "colab_type": "text",
    "id": "QoLumL04-9QK"
   },
   "source": [
    "## Bag-of-words Linear Model"
   ]
  },
  {
   "cell_type": "code",
   "execution_count": 11,
   "metadata": {
    "colab": {},
    "colab_type": "code",
    "id": "KOQo5OP_-9QL"
   },
   "outputs": [],
   "source": [
    "def bow_onehot_vector(tokens):\n",
    "    vector = [0] * len(vocab)\n",
    "    for t in tokens:\n",
    "        try:\n",
    "            vector[vocab.index(t)] = 1\n",
    "        except:\n",
    "            pass  # ignore missing words\n",
    "    return vector"
   ]
  },
  {
   "cell_type": "code",
   "execution_count": 18,
   "metadata": {
    "colab": {
     "base_uri": "https://localhost:8080/",
     "height": 51
    },
    "colab_type": "code",
    "id": "qpSiUfNh-9QP",
    "outputId": "9ac4cb58-6e45-44c7-beee-019074ca2394"
   },
   "outputs": [
    {
     "name": "stderr",
     "output_type": "stream",
     "text": [
      "100%|██████████| 25000/25000 [01:08<00:00, 366.39it/s]\n",
      "100%|██████████| 25000/25000 [01:07<00:00, 371.36it/s]\n"
     ]
    }
   ],
   "source": [
    "from tqdm import tqdm\n",
    "\n",
    "X_bow_train = [bow_onehot_vector(x) for x in tqdm(X_train)]\n",
    "X_bow_val = [bow_onehot_vector(x) for x in tqdm(X_val)]"
   ]
  },
  {
   "cell_type": "code",
   "execution_count": 19,
   "metadata": {
    "colab": {},
    "colab_type": "code",
    "id": "pxZY20nQ-9QU"
   },
   "outputs": [],
   "source": [
    "def best_train_history(history):\n",
    "    best_epoch = np.argmax(history.history['val_acc'])\n",
    "    print('Accuracy (epoch %d): %.4f train, %.4f val' % \\\n",
    "          (best_epoch + 1, history.history['acc'][best_epoch], history.history['val_acc'][best_epoch]))\n",
    "# (Note that sentiment.model is the state after the last epoch rather than best epoch!\n",
    "# Use ModelCheckpointer to restore the best epoch.)"
   ]
  },
  {
   "cell_type": "code",
   "execution_count": 20,
   "metadata": {
    "colab": {
     "base_uri": "https://localhost:8080/",
     "height": 768
    },
    "colab_type": "code",
    "id": "slkvuH-s-9Qd",
    "outputId": "ce2fc83e-e158-4026-8337-e26494392622",
    "scrolled": true
   },
   "outputs": [
    {
     "name": "stderr",
     "output_type": "stream",
     "text": [
      "Using TensorFlow backend.\n"
     ]
    },
    {
     "name": "stdout",
     "output_type": "stream",
     "text": [
      "WARNING:tensorflow:From /home/zhukovgreen/.cache/pypoetry/virtualenvs/mlprague2019-py3.7/lib/python3.7/site-packages/tensorflow/python/framework/op_def_library.py:263: colocate_with (from tensorflow.python.framework.ops) is deprecated and will be removed in a future version.\n",
      "Instructions for updating:\n",
      "Colocations handled automatically by placer.\n",
      "_________________________________________________________________\n",
      "Layer (type)                 Output Shape              Param #   \n",
      "=================================================================\n",
      "bow_input (InputLayer)       (None, 5000)              0         \n",
      "_________________________________________________________________\n",
      "dense_1 (Dense)              (None, 1)                 5001      \n",
      "_________________________________________________________________\n",
      "activation_1 (Activation)    (None, 1)                 0         \n",
      "=================================================================\n",
      "Total params: 5,001\n",
      "Trainable params: 5,001\n",
      "Non-trainable params: 0\n",
      "_________________________________________________________________\n",
      "Fitting...\n",
      "WARNING:tensorflow:From /home/zhukovgreen/.cache/pypoetry/virtualenvs/mlprague2019-py3.7/lib/python3.7/site-packages/tensorflow/python/ops/math_ops.py:3066: to_int32 (from tensorflow.python.ops.math_ops) is deprecated and will be removed in a future version.\n",
      "Instructions for updating:\n",
      "Use tf.cast instead.\n",
      "Train on 25000 samples, validate on 25000 samples\n",
      "Epoch 1/10\n",
      "25000/25000 [==============================] - 3s 131us/step - loss: 0.4544 - acc: 0.8314 - val_loss: 0.3631 - val_acc: 0.8720\n",
      "Epoch 2/10\n",
      "25000/25000 [==============================] - 2s 88us/step - loss: 0.3142 - acc: 0.8874 - val_loss: 0.3174 - val_acc: 0.8796\n",
      "Epoch 3/10\n",
      "25000/25000 [==============================] - 2s 88us/step - loss: 0.2732 - acc: 0.8996 - val_loss: 0.3015 - val_acc: 0.8805\n",
      "Epoch 4/10\n",
      "25000/25000 [==============================] - 2s 84us/step - loss: 0.2503 - acc: 0.9082 - val_loss: 0.2936 - val_acc: 0.8813\n",
      "Epoch 5/10\n",
      "25000/25000 [==============================] - 2s 86us/step - loss: 0.2348 - acc: 0.9142 - val_loss: 0.2911 - val_acc: 0.8809\n",
      "Epoch 6/10\n",
      "25000/25000 [==============================] - 2s 88us/step - loss: 0.2235 - acc: 0.9184 - val_loss: 0.2910 - val_acc: 0.8816\n",
      "Epoch 7/10\n",
      "25000/25000 [==============================] - 2s 85us/step - loss: 0.2141 - acc: 0.9216 - val_loss: 0.2924 - val_acc: 0.8810\n",
      "Epoch 8/10\n",
      "25000/25000 [==============================] - 2s 83us/step - loss: 0.2070 - acc: 0.9250 - val_loss: 0.2962 - val_acc: 0.8776\n",
      "Epoch 9/10\n",
      "25000/25000 [==============================] - 2s 82us/step - loss: 0.2010 - acc: 0.9260 - val_loss: 0.2977 - val_acc: 0.8781\n",
      "Epoch 10/10\n",
      "25000/25000 [==============================] - 2s 78us/step - loss: 0.1953 - acc: 0.9294 - val_loss: 0.3004 - val_acc: 0.8769\n",
      "Accuracy (epoch 6): 0.9184 train, 0.8816 val\n"
     ]
    }
   ],
   "source": [
    "from keras.layers import Activation, Dense, Input\n",
    "from keras.models import Model\n",
    "import numpy as np\n",
    "\n",
    "class BOWSentimentModel(object):\n",
    "    def __init__(self):\n",
    "        bow = Input(shape=(len(vocab),), name='bow_input')\n",
    "        # weights of all inputs\n",
    "        sentiment = Dense(1)(bow)\n",
    "        # normalize to [0, 1] range\n",
    "        sentiment = Activation('sigmoid')(sentiment)\n",
    "\n",
    "        self.model = Model(inputs=[bow], outputs=[sentiment])\n",
    "        self.model.summary()\n",
    "        self.model.compile(optimizer='adam', loss='binary_crossentropy', metrics=['accuracy'])\n",
    "\n",
    "    def train(self, X, y, X_val, y_val):\n",
    "        print('Fitting...')\n",
    "        return self.model.fit(np.array(X), y, validation_data=(np.array(X_val), y_val), epochs=10, verbose=1)\n",
    "\n",
    "    def predict(self, X):\n",
    "        return self.model.predict(np.array(X))\n",
    "    \n",
    "sentiment = BOWSentimentModel()\n",
    "history = sentiment.train(X_bow_train, y_train, X_bow_val, y_val)\n",
    "best_train_history(history)"
   ]
  },
  {
   "cell_type": "code",
   "execution_count": 0,
   "metadata": {
    "colab": {
     "base_uri": "https://localhost:8080/",
     "height": 105
    },
    "colab_type": "code",
    "id": "CTe-Qt2N-9Qm",
    "outputId": "0a2b9696-1c1c-47b3-b2e6-7859f5bc8579"
   },
   "outputs": [
    {
     "name": "stdout",
     "output_type": "stream",
     "text": [
      "Good story about a backwoods community in the Ozarks around the turn of the century. Moonshine is the leading industry, fighting and funning the major form of entertainment. One day a stranger enters the community and causes a shake-up among the locals. Beautiful scenery adds much to the story.\n",
      "[0.7635506]\n",
      "Boring story about a backwoods community in the Ozarks around the turn of the century. Moonshine is the leading industry, fighting and funning the major form of entertainment. One day a stranger enters the community and causes a shake-up among the locals. Beautiful scenery does not add to the story.\n",
      "[0.3953569]\n"
     ]
    }
   ],
   "source": [
    "test_text = 'Good story about a backwoods community in the Ozarks around the turn of the century. Moonshine is the leading industry, fighting and funning the major form of entertainment. One day a stranger enters the community and causes a shake-up among the locals. Beautiful scenery adds much to the story.'\n",
    "test_tokens = text_tokens(test_text)\n",
    "print(test_text)\n",
    "print(sentiment.predict([bow_onehot_vector(test_tokens)])[0])\n",
    "\n",
    "test_text = 'Boring story about a backwoods community in the Ozarks around the turn of the century. Moonshine is the leading industry, fighting and funning the major form of entertainment. One day a stranger enters the community and causes a shake-up among the locals. Beautiful scenery does not add to the story.'\n",
    "test_tokens = text_tokens(test_text)\n",
    "print(test_text)\n",
    "print(sentiment.predict([bow_onehot_vector(test_tokens)])[0])\n"
   ]
  },
  {
   "cell_type": "code",
   "execution_count": 0,
   "metadata": {
    "colab": {},
    "colab_type": "code",
    "id": "1WBNFZb8-9Q2"
   },
   "outputs": [],
   "source": [
    "import matplotlib.pyplot as plt\n",
    "def plot_train_history(history):\n",
    "    plt.figure()\n",
    "    plt.plot(history.history['acc'])\n",
    "    plt.plot(history.history['val_acc'])\n",
    "    plt.xlabel('epoch')\n",
    "    plt.ylabel('accuracy')\n",
    "    plt.legend(['acc', 'val_acc'])\n",
    "    plt.show()"
   ]
  },
  {
   "cell_type": "code",
   "execution_count": 0,
   "metadata": {
    "colab": {
     "base_uri": "https://localhost:8080/",
     "height": 361
    },
    "colab_type": "code",
    "id": "eLjC737--9Q6",
    "outputId": "1a03611b-f8ff-48d7-f512-a4128167c539"
   },
   "outputs": [
    {
     "data": {
      "image/png": "[encoded data removed]",
      "text/plain": [
       "<Figure size 576x396 with 1 Axes>"
      ]
     },
     "metadata": {
      "tags": []
     },
     "output_type": "display_data"
    }
   ],
   "source": [
    "plot_train_history(history)"
   ]
  },
  {
   "cell_type": "markdown",
   "metadata": {
    "colab_type": "text",
    "id": "DtUaOoZf-9RC"
   },
   "source": [
    "### Bag-of-Words with Hidden Layer"
   ]
  },
  {
   "cell_type": "code",
   "execution_count": 0,
   "metadata": {
    "colab": {
     "base_uri": "https://localhost:8080/",
     "height": 629
    },
    "colab_type": "code",
    "id": "pum8HYkz-9RD",
    "outputId": "499aab22-0b5e-465d-ce61-7a56a43aff14",
    "scrolled": true
   },
   "outputs": [
    {
     "name": "stdout",
     "output_type": "stream",
     "text": [
      "_________________________________________________________________\n",
      "Layer (type)                 Output Shape              Param #   \n",
      "=================================================================\n",
      "bow_input (InputLayer)       (None, 5000)              0         \n",
      "_________________________________________________________________\n",
      "dense_2 (Dense)              (None, 64)                320064    \n",
      "_________________________________________________________________\n",
      "dense_3 (Dense)              (None, 1)                 65        \n",
      "=================================================================\n",
      "Total params: 320,129\n",
      "Trainable params: 320,129\n",
      "Non-trainable params: 0\n",
      "_________________________________________________________________\n",
      "Fitting...\n",
      "Train on 25000 samples, validate on 25000 samples\n",
      "Epoch 1/10\n",
      "25000/25000 [==============================] - 10s 385us/step - loss: 0.3299 - acc: 0.8580 - val_loss: 0.2998 - val_acc: 0.8702\n",
      "Epoch 2/10\n",
      "25000/25000 [==============================] - 8s 307us/step - loss: 0.2349 - acc: 0.9030 - val_loss: 0.3294 - val_acc: 0.8620\n",
      "Epoch 3/10\n",
      "25000/25000 [==============================] - 8s 306us/step - loss: 0.2026 - acc: 0.9196 - val_loss: 0.3192 - val_acc: 0.8659\n",
      "Epoch 4/10\n",
      "25000/25000 [==============================] - 8s 304us/step - loss: 0.1775 - acc: 0.9283 - val_loss: 0.3525 - val_acc: 0.8586\n",
      "Epoch 5/10\n",
      "25000/25000 [==============================] - 8s 308us/step - loss: 0.1511 - acc: 0.9424 - val_loss: 0.3766 - val_acc: 0.8606\n",
      "Epoch 6/10\n",
      "25000/25000 [==============================] - 8s 309us/step - loss: 0.1225 - acc: 0.9540 - val_loss: 0.4036 - val_acc: 0.8565\n",
      "Epoch 7/10\n",
      "25000/25000 [==============================] - 8s 311us/step - loss: 0.0913 - acc: 0.9679 - val_loss: 0.4564 - val_acc: 0.8547\n",
      "Epoch 8/10\n",
      "25000/25000 [==============================] - 10s 382us/step - loss: 0.0629 - acc: 0.9802 - val_loss: 0.5052 - val_acc: 0.8536\n",
      "Epoch 9/10\n",
      "25000/25000 [==============================] - 9s 341us/step - loss: 0.0400 - acc: 0.9908 - val_loss: 0.5871 - val_acc: 0.8508\n",
      "Epoch 10/10\n",
      "25000/25000 [==============================] - 8s 304us/step - loss: 0.0240 - acc: 0.9956 - val_loss: 0.6373 - val_acc: 0.8514\n",
      "Accuracy (epoch 1): 0.8580 train, 0.8702 val\n"
     ]
    }
   ],
   "source": [
    "from keras.layers import Activation, Dense, Input\n",
    "from keras.models import Model\n",
    "import numpy as np\n",
    "\n",
    "class BOWHiddenSentimentModel(object):\n",
    "    def __init__(self, N=64):\n",
    "        bow = Input(shape=(len(vocab),), name='bow_input')\n",
    "        hidden = Dense(N, activation='tanh')(bow)\n",
    "        sentiment = Dense(1, activation='sigmoid')(hidden)\n",
    "\n",
    "        self.model = Model(inputs=[bow], outputs=[sentiment])\n",
    "        self.model.summary()\n",
    "        self.model.compile(optimizer='adam', loss='binary_crossentropy', metrics=['accuracy'])\n",
    "\n",
    "    def train(self, X, y, X_val, y_val):\n",
    "        print('Fitting...')\n",
    "        return self.model.fit(np.array(X), y, validation_data=(np.array(X_val), y_val), epochs=10, verbose=1)\n",
    "\n",
    "    def predict(self, X):\n",
    "        return self.model.predict(np.array(X))\n",
    "    \n",
    "sentiment = BOWHiddenSentimentModel()\n",
    "history = sentiment.train(X_bow_train, y_train, X_bow_val, y_val)\n",
    "best_train_history(history)"
   ]
  },
  {
   "cell_type": "code",
   "execution_count": 0,
   "metadata": {
    "colab": {},
    "colab_type": "code",
    "id": "1UNgXwqO-9RQ",
    "outputId": "4efd1a02-f8f8-464a-98bd-b0ff3127783b"
   },
   "outputs": [
    {
     "data": {
      "image/png": "[encoded data removed]",
      "text/plain": [
       "<matplotlib.figure.Figure at 0x7fbd1746bcd0>"
      ]
     },
     "metadata": {
      "tags": []
     },
     "output_type": "display_data"
    }
   ],
   "source": [
    "plot_train_history(history)"
   ]
  },
  {
   "cell_type": "markdown",
   "metadata": {
    "colab_type": "text",
    "id": "K834B3Rx-9Ra"
   },
   "source": [
    "Overfitting!  Ideas:\n",
    "  * Apply dropout\n",
    "  * L2-regularize the weights of the hidden layer\n",
    "  * Different N values?\n",
    "  * Multiple hidden layers, with different activation?\n",
    "  * tf-idf !\n",
    "  \n",
    "Can anyone fix the bag-of-words model?"
   ]
  },
  {
   "cell_type": "code",
   "execution_count": 0,
   "metadata": {
    "colab": {
     "base_uri": "https://localhost:8080/",
     "height": 734
    },
    "colab_type": "code",
    "id": "BvC5o3eH-9Rc",
    "outputId": "9b10f7f0-9118-4735-87ad-901117a72b3d",
    "scrolled": true
   },
   "outputs": [
    {
     "name": "stdout",
     "output_type": "stream",
     "text": [
      "WARNING:tensorflow:From /usr/local/lib/python2.7/dist-packages/keras/backend/tensorflow_backend.py:3445: calling dropout (from tensorflow.python.ops.nn_ops) with keep_prob is deprecated and will be removed in a future version.\n",
      "Instructions for updating:\n",
      "Please use `rate` instead of `keep_prob`. Rate should be set to `rate = 1 - keep_prob`.\n",
      "_________________________________________________________________\n",
      "Layer (type)                 Output Shape              Param #   \n",
      "=================================================================\n",
      "bow_input (InputLayer)       (None, 5000)              0         \n",
      "_________________________________________________________________\n",
      "dense_4 (Dense)              (None, 128)               640128    \n",
      "_________________________________________________________________\n",
      "dropout_1 (Dropout)          (None, 128)               0         \n",
      "_________________________________________________________________\n",
      "dense_5 (Dense)              (None, 1)                 129       \n",
      "=================================================================\n",
      "Total params: 640,257\n",
      "Trainable params: 640,257\n",
      "Non-trainable params: 0\n",
      "_________________________________________________________________\n",
      "Fitting...\n",
      "Train on 25000 samples, validate on 25000 samples\n",
      "Epoch 1/10\n",
      "25000/25000 [==============================] - 17s 680us/step - loss: 0.4987 - acc: 0.8487 - val_loss: 0.4607 - val_acc: 0.8620\n",
      "Epoch 2/10\n",
      "25000/25000 [==============================] - 16s 657us/step - loss: 0.4366 - acc: 0.8737 - val_loss: 0.4451 - val_acc: 0.8679\n",
      "Epoch 3/10\n",
      "25000/25000 [==============================] - 16s 658us/step - loss: 0.4208 - acc: 0.8817 - val_loss: 0.4482 - val_acc: 0.8606\n",
      "Epoch 4/10\n",
      "25000/25000 [==============================] - 17s 663us/step - loss: 0.4154 - acc: 0.8789 - val_loss: 0.4423 - val_acc: 0.8627\n",
      "Epoch 5/10\n",
      "25000/25000 [==============================] - 17s 663us/step - loss: 0.4087 - acc: 0.8815 - val_loss: 0.4323 - val_acc: 0.8654\n",
      "Epoch 6/10\n",
      "25000/25000 [==============================] - 17s 665us/step - loss: 0.3962 - acc: 0.8851 - val_loss: 0.4231 - val_acc: 0.8694\n",
      "Epoch 7/10\n",
      "25000/25000 [==============================] - 16s 658us/step - loss: 0.3951 - acc: 0.8830 - val_loss: 0.4158 - val_acc: 0.8708\n",
      "Epoch 8/10\n",
      "25000/25000 [==============================] - 16s 656us/step - loss: 0.3883 - acc: 0.8850 - val_loss: 0.4503 - val_acc: 0.8533\n",
      "Epoch 9/10\n",
      "25000/25000 [==============================] - 17s 662us/step - loss: 0.3833 - acc: 0.8882 - val_loss: 0.4132 - val_acc: 0.8700\n",
      "Epoch 10/10\n",
      "25000/25000 [==============================] - 16s 657us/step - loss: 0.3796 - acc: 0.8874 - val_loss: 0.4253 - val_acc: 0.8655\n",
      "Accuracy (epoch 7): 0.8830 train, 0.8708 val\n"
     ]
    }
   ],
   "source": [
    "from keras.layers import Activation, Dense, Dropout, Input\n",
    "from keras.models import Model\n",
    "from keras import regularizers\n",
    "import numpy as np\n",
    "\n",
    "class BOWHiddenRegularizedSentimentModel(object):\n",
    "    def __init__(self, N=128):\n",
    "        bow = Input(shape=(len(vocab),), name='bow_input')\n",
    "        hidden = Dropout(0.5)(Dense(N, kernel_regularizer=regularizers.l2(1e-3))(bow))\n",
    "        sentiment = Dense(1, activation='sigmoid')(hidden)\n",
    "\n",
    "        self.model = Model(inputs=[bow], outputs=[sentiment])\n",
    "        self.model.summary()\n",
    "        self.model.compile(optimizer='adam', loss='binary_crossentropy', metrics=['accuracy'])\n",
    "\n",
    "    def train(self, X, y, X_val, y_val):\n",
    "        print('Fitting...')\n",
    "        return self.model.fit(np.array(X), y, validation_data=(np.array(X_val), y_val), epochs=10, verbose=1)\n",
    "\n",
    "    def predict(self, X):\n",
    "        return self.model.predict(np.array(X))\n",
    "    \n",
    "sentiment = BOWHiddenRegularizedSentimentModel()\n",
    "history = sentiment.train(X_bow_train, y_train, X_bow_val, y_val)\n",
    "best_train_history(history)"
   ]
  },
  {
   "cell_type": "markdown",
   "metadata": {
    "colab_type": "text",
    "id": "hUfCSWU3-9Rh"
   },
   "source": [
    "## GloVe-based Model (let's start with averaging)"
   ]
  },
  {
   "cell_type": "markdown",
   "metadata": {
    "colab_type": "text",
    "id": "AwWSvDJK-9Rj"
   },
   "source": [
    "Download and extract the official pre-trained GloVe matrix:"
   ]
  },
  {
   "cell_type": "code",
   "execution_count": 0,
   "metadata": {
    "colab": {
     "base_uri": "https://localhost:8080/",
     "height": 289
    },
    "colab_type": "code",
    "id": "oh_CHorSBRjN",
    "outputId": "da5cb70e-cfc6-4974-f355-051939ec18e6"
   },
   "outputs": [
    {
     "name": "stdout",
     "output_type": "stream",
     "text": [
      "--2019-02-21 23:26:43--  https://nlp.stanford.edu/data/glove.6B.zip\n",
      "Resolving nlp.stanford.edu (nlp.stanford.edu)... 171.64.67.140\n",
      "Connecting to nlp.stanford.edu (nlp.stanford.edu)|171.64.67.140|:443... connected.\n",
      "HTTP request sent, awaiting response... 200 OK\n",
      "Length: 862182613 (822M) [application/zip]\n",
      "Saving to: ‘glove.6B.zip’\n",
      "\n",
      "glove.6B.zip        100%[===================>] 822.24M  6.57MB/s    in 2m 19s  \n",
      "\n",
      "2019-02-21 23:29:02 (5.91 MB/s) - ‘glove.6B.zip’ saved [862182613/862182613]\n",
      "\n",
      "Archive:  glove.6B.zip\n",
      "  inflating: glove.6B.50d.txt        \n",
      "  inflating: glove.6B.100d.txt       \n",
      "  inflating: glove.6B.200d.txt       \n",
      "  inflating: glove.6B.300d.txt       \n"
     ]
    }
   ],
   "source": [
    "! wget https://nlp.stanford.edu/data/glove.6B.zip\n",
    "! unzip glove.6B.zip\n"
   ]
  },
  {
   "cell_type": "markdown",
   "metadata": {
    "colab_type": "text",
    "id": "T_VJISCtBX5p"
   },
   "source": [
    "We decided to use GloVe over word2vec as in our experience, GloVe carries word semantics better and works better in semantic-sensitive tasks.  But the difference is not huge."
   ]
  },
  {
   "cell_type": "markdown",
   "metadata": {
    "colab_type": "text",
    "id": "fHrfYbfV-9Rq"
   },
   "source": [
    "### Loading GloVe vocabulary"
   ]
  },
  {
   "cell_type": "markdown",
   "metadata": {
    "colab_type": "text",
    "id": "CgWxaO8I-9Rs"
   },
   "source": [
    "You may need to restart your kernel here if you don't have a lot of free memory, to get rid of the bag-of-words vectors from before."
   ]
  },
  {
   "cell_type": "code",
   "execution_count": 0,
   "metadata": {
    "colab": {},
    "colab_type": "code",
    "id": "FzCS4vLE-9Ru"
   },
   "outputs": [],
   "source": [
    "# Embedding dimension means how many elements each word vector has.\n",
    "# Common values are 50 and 300.  Generally, larger vectors have more\n",
    "# capacity to carry information (meaning).  But the training process\n",
    "# is slower, both vectors and further layers take more memory, and\n",
    "# there could be higher risk of overfitting.\n",
    "EMBEDDING_DIM = 50"
   ]
  },
  {
   "cell_type": "code",
   "execution_count": 0,
   "metadata": {
    "colab": {
     "base_uri": "https://localhost:8080/",
     "height": 51
    },
    "colab_type": "code",
    "id": "1pH6j5q5-9Ry",
    "outputId": "b374baa9-ad10-45f5-c17a-a8b03f78b040"
   },
   "outputs": [
    {
     "name": "stderr",
     "output_type": "stream",
     "text": [
      "400000it [00:04, 81483.25it/s]"
     ]
    },
    {
     "name": "stdout",
     "output_type": "stream",
     "text": [
      "Found 400000 word vectors.\n"
     ]
    },
    {
     "name": "stderr",
     "output_type": "stream",
     "text": [
      "\n"
     ]
    }
   ],
   "source": [
    "# let's create a dictionary of each word in the pre-trained GloVe embeddings, saving its location indexes \n",
    "import os\n",
    "from tqdm import tqdm\n",
    "import numpy as np\n",
    "\n",
    "GLOVE_DIR = \".\"\n",
    "embeddings_index = {}\n",
    "f = open(os.path.join(GLOVE_DIR, 'glove.6B.%dd.txt' % EMBEDDING_DIM))\n",
    "for line in tqdm(f):\n",
    "    values = line.split()\n",
    "    word = values[0]\n",
    "    coefs = np.asarray(values[1:], dtype='float32')\n",
    "    embeddings_index[word] = coefs\n",
    "f.close()\n",
    "\n",
    "print('Found %s word vectors.' % len(embeddings_index))"
   ]
  },
  {
   "cell_type": "code",
   "execution_count": 0,
   "metadata": {
    "colab": {},
    "colab_type": "code",
    "id": "Kj-muSQo-9R4"
   },
   "outputs": [],
   "source": [
    "# a matrix that is indexed by our vocabulary, containing\n",
    "# GloVe embedding for each vocabulary element\n",
    "embedding_matrix = np.zeros((len(vocab) + 1, EMBEDDING_DIM))\n",
    "for i, word in enumerate(vocab):\n",
    "    embedding_vector = embeddings_index.get(word)\n",
    "    if embedding_vector is not None:\n",
    "        # words not found in embedding index will be all-zeros.\n",
    "        # also, [0] is reserved for padding\n",
    "        embedding_matrix[i + 1] = embedding_vector"
   ]
  },
  {
   "cell_type": "markdown",
   "metadata": {
    "colab_type": "text",
    "id": "zTqCYB5n-9R7"
   },
   "source": [
    "Checking how many words have no pre-trained GloVe word embeddings:"
   ]
  },
  {
   "cell_type": "code",
   "execution_count": 0,
   "metadata": {
    "colab": {
     "base_uri": "https://localhost:8080/",
     "height": 34
    },
    "colab_type": "code",
    "id": "h5zua3DU-9R8",
    "outputId": "80a25b89-3b6b-4dd2-c489-3785fd9849a6"
   },
   "outputs": [
    {
     "data": {
      "text/plain": [
       "0.0076"
      ]
     },
     "execution_count": 13,
     "metadata": {
      "tags": []
     },
     "output_type": "execute_result"
    }
   ],
   "source": [
    "1. * np.count_nonzero(np.all(embedding_matrix == 0, axis=1)) / len(vocab)  # OOV portion"
   ]
  },
  {
   "cell_type": "markdown",
   "metadata": {
    "colab_type": "text",
    "id": "MtQ5rl0R-9SD"
   },
   "source": [
    "We are representing reviews as sequences now.  However, each sequence must have the same length on the input in Keras.  We will pad shorter sequences by zeroes from right, but what should be the maximum sequence length?  Let's find a compromise."
   ]
  },
  {
   "cell_type": "code",
   "execution_count": 0,
   "metadata": {
    "colab": {
     "base_uri": "https://localhost:8080/",
     "height": 34
    },
    "colab_type": "code",
    "id": "PgQLKWwJ-9SF",
    "outputId": "8445bc14-8671-4d31-f022-c48fa6b64ccb"
   },
   "outputs": [
    {
     "name": "stdout",
     "output_type": "stream",
     "text": [
      "Longest: 2470, Average: 233.778560, Median: 174, 90% percentile: 458 tokens\n"
     ]
    }
   ],
   "source": [
    "lengths = sorted([len(X) for X in X_train])\n",
    "percentile = 0.90\n",
    "seq_cutoff = lengths[int(len(lengths)*percentile)]\n",
    "print('Longest: %d, Average: %f, Median: %d, %d%% percentile: %d tokens' % (lengths[-1], np.mean(lengths), lengths[int(len(lengths)*0.5)], percentile*100, seq_cutoff))"
   ]
  },
  {
   "cell_type": "code",
   "execution_count": 0,
   "metadata": {
    "colab": {},
    "colab_type": "code",
    "id": "YTymg3Ex-9SP"
   },
   "outputs": [],
   "source": [
    "def vocab_indices_vector(tokens):\n",
    "    vector = [0] * seq_cutoff\n",
    "    if len(tokens) > seq_cutoff:\n",
    "        # Remove the middle\n",
    "        tokens = tokens[: seq_cutoff // 2] + ['SINGLE_PADDING_IN_THE_MIDDLE'] + tokens[-seq_cutoff // 2 :]\n",
    "    for i, t in enumerate(tokens):\n",
    "        try:\n",
    "            vector[i] = vocab.index(t) + 1  # reserving 0 for padding\n",
    "        except:\n",
    "            pass  # ignore missing words\n",
    "    return vector"
   ]
  },
  {
   "cell_type": "code",
   "execution_count": 0,
   "metadata": {
    "colab": {
     "base_uri": "https://localhost:8080/",
     "height": 51
    },
    "colab_type": "code",
    "id": "VhwByKqy-9SU",
    "outputId": "0cc20485-6802-4ac9-8e02-1e1645a2f67b"
   },
   "outputs": [
    {
     "name": "stderr",
     "output_type": "stream",
     "text": [
      "100%|██████████| 25000/25000 [01:21<00:00, 306.57it/s]\n",
      "100%|██████████| 25000/25000 [01:19<00:00, 313.20it/s]\n"
     ]
    }
   ],
   "source": [
    "X_indices_train = [vocab_indices_vector(x) for x in tqdm(X_train)]\n",
    "X_indices_val = [vocab_indices_vector(x) for x in tqdm(X_val)]"
   ]
  },
  {
   "cell_type": "markdown",
   "metadata": {
    "colab_type": "text",
    "id": "f56NxPuV-9SZ"
   },
   "source": [
    "### GloVe averaging model"
   ]
  },
  {
   "cell_type": "code",
   "execution_count": 0,
   "metadata": {
    "colab": {
     "base_uri": "https://localhost:8080/",
     "height": 663
    },
    "colab_type": "code",
    "id": "SdZZveHW-9Sa",
    "outputId": "dc869855-9e1b-4600-802b-e74d34905888",
    "scrolled": true
   },
   "outputs": [
    {
     "name": "stdout",
     "output_type": "stream",
     "text": [
      "_________________________________________________________________\n",
      "Layer (type)                 Output Shape              Param #   \n",
      "=================================================================\n",
      "seq_input (InputLayer)       (None, 458)               0         \n",
      "_________________________________________________________________\n",
      "embedding_1 (Embedding)      (None, 458, 50)           250050    \n",
      "_________________________________________________________________\n",
      "global_average_pooling1d_1 ( (None, 50)                0         \n",
      "_________________________________________________________________\n",
      "dense_6 (Dense)              (None, 1)                 51        \n",
      "=================================================================\n",
      "Total params: 250,101\n",
      "Trainable params: 51\n",
      "Non-trainable params: 250,050\n",
      "_________________________________________________________________\n",
      "Fitting...\n",
      "Train on 25000 samples, validate on 25000 samples\n",
      "Epoch 1/10\n",
      "25000/25000 [==============================] - 7s 284us/step - loss: 0.6858 - acc: 0.6050 - val_loss: 0.6770 - val_acc: 0.6580\n",
      "Epoch 2/10\n",
      "25000/25000 [==============================] - 8s 340us/step - loss: 0.6689 - acc: 0.6646 - val_loss: 0.6635 - val_acc: 0.6596\n",
      "Epoch 3/10\n",
      "25000/25000 [==============================] - 9s 341us/step - loss: 0.6561 - acc: 0.6660 - val_loss: 0.6534 - val_acc: 0.6605\n",
      "Epoch 4/10\n",
      "25000/25000 [==============================] - 8s 337us/step - loss: 0.6463 - acc: 0.6717 - val_loss: 0.6449 - val_acc: 0.6673\n",
      "Epoch 5/10\n",
      "25000/25000 [==============================] - 8s 340us/step - loss: 0.6383 - acc: 0.6771 - val_loss: 0.6382 - val_acc: 0.6722\n",
      "Epoch 6/10\n",
      "25000/25000 [==============================] - 9s 341us/step - loss: 0.6317 - acc: 0.6826 - val_loss: 0.6324 - val_acc: 0.6761\n",
      "Epoch 7/10\n",
      "25000/25000 [==============================] - 8s 335us/step - loss: 0.6258 - acc: 0.6862 - val_loss: 0.6273 - val_acc: 0.6802\n",
      "Epoch 8/10\n",
      "25000/25000 [==============================] - 8s 337us/step - loss: 0.6206 - acc: 0.6902 - val_loss: 0.6230 - val_acc: 0.6805\n",
      "Epoch 9/10\n",
      "25000/25000 [==============================] - 8s 336us/step - loss: 0.6161 - acc: 0.6931 - val_loss: 0.6187 - val_acc: 0.6857\n",
      "Epoch 10/10\n",
      "25000/25000 [==============================] - 8s 339us/step - loss: 0.6119 - acc: 0.6968 - val_loss: 0.6148 - val_acc: 0.6896\n",
      "Accuracy (epoch 10): 0.6968 train, 0.6896 val\n"
     ]
    }
   ],
   "source": [
    "from keras.layers import Activation, GlobalAveragePooling1D, Dense, Embedding, Input\n",
    "from keras.models import Model\n",
    "import numpy as np\n",
    "\n",
    "class GloveAvgSentimentModel(object):\n",
    "    def __init__(self):\n",
    "        self.model = self.create()\n",
    "        self.model.summary()\n",
    "        self.model.compile(optimizer='adam', loss='binary_crossentropy', metrics=['accuracy'])\n",
    "        \n",
    "    def create(self):\n",
    "        seq_indices = Input(shape=(seq_cutoff,), name='seq_input')                    \n",
    "        seq_embedded = Embedding(input_dim=len(vocab) + 1, output_dim=EMBEDDING_DIM, weights=[embedding_matrix],\n",
    "                                 input_length=seq_cutoff, trainable=False)(seq_indices)\n",
    "        avg_embedded = GlobalAveragePooling1D()(seq_embedded)\n",
    "        sentiment = Dense(1, activation='sigmoid')(avg_embedded)\n",
    "\n",
    "        return Model(inputs=[seq_indices], outputs=[sentiment])\n",
    "\n",
    "    def train(self, X, y, X_val, y_val):\n",
    "        print('Fitting...')\n",
    "        return self.model.fit(np.array(X, dtype='int32'), y,\n",
    "                              validation_data=(np.array(X_val, dtype='int32'), y_val), epochs=10, verbose=1)\n",
    "\n",
    "    def predict(self, X):\n",
    "        return self.model.predict(np.array(X))\n",
    "    \n",
    "sentiment = GloveAvgSentimentModel()\n",
    "history = sentiment.train(X_indices_train, y_train, X_indices_val, y_val)\n",
    "best_train_history(history)"
   ]
  },
  {
   "cell_type": "markdown",
   "metadata": {
    "colab_type": "text",
    "id": "9-Brswov-9Sh"
   },
   "source": [
    "Questions:\n",
    "  * Predict sentiment from mean embedding, or mean sentiment from each embedding?\n",
    "  * Projection to a latent \"sentiment predictive\" vector space first?\n",
    "  \n",
    "Other ideas (for pretty much all further models):\n",
    "  * Trainable embeddings?\n",
    "  * ...what about embeddings from scratch, by the way?\n",
    "  * Just more epochs?\n",
    "\n",
    "Advanced idea:\n",
    "  * Could we visualize importance of individual words towards the predicted sentiment?"
   ]
  },
  {
   "cell_type": "markdown",
   "metadata": {
    "colab_type": "text",
    "id": "YP67FQAl-9Sh"
   },
   "source": [
    "### Maximum in a \"sentiment predictive\" space"
   ]
  },
  {
   "cell_type": "code",
   "execution_count": 0,
   "metadata": {
    "colab": {
     "base_uri": "https://localhost:8080/",
     "height": 697
    },
    "colab_type": "code",
    "id": "kReH2-iD-9Si",
    "outputId": "d7f0f1da-a28e-4a9d-fc1e-75e5bb0b22e5",
    "scrolled": true
   },
   "outputs": [
    {
     "name": "stdout",
     "output_type": "stream",
     "text": [
      "_________________________________________________________________\n",
      "Layer (type)                 Output Shape              Param #   \n",
      "=================================================================\n",
      "seq_input (InputLayer)       (None, 458)               0         \n",
      "_________________________________________________________________\n",
      "embedding_2 (Embedding)      (None, 458, 50)           250050    \n",
      "_________________________________________________________________\n",
      "dense_3 (Dense)              (None, 458, 64)           3264      \n",
      "_________________________________________________________________\n",
      "global_max_pooling1d_2 (Glob (None, 64)                0         \n",
      "_________________________________________________________________\n",
      "dense_4 (Dense)              (None, 1)                 65        \n",
      "=================================================================\n",
      "Total params: 253,379\n",
      "Trainable params: 3,329\n",
      "Non-trainable params: 250,050\n",
      "_________________________________________________________________\n",
      "Fitting...\n",
      "Train on 25000 samples, validate on 25000 samples\n",
      "Epoch 1/10\n",
      "25000/25000 [==============================] - 5s 212us/step - loss: 0.5474 - acc: 0.7377 - val_loss: 0.4620 - val_acc: 0.7896\n",
      "Epoch 2/10\n",
      "25000/25000 [==============================] - 5s 202us/step - loss: 0.4344 - acc: 0.8072 - val_loss: 0.4170 - val_acc: 0.8137\n",
      "Epoch 3/10\n",
      "25000/25000 [==============================] - 5s 202us/step - loss: 0.3973 - acc: 0.8262 - val_loss: 0.3994 - val_acc: 0.8227\n",
      "Epoch 4/10\n",
      "25000/25000 [==============================] - 5s 201us/step - loss: 0.3742 - acc: 0.8387 - val_loss: 0.3879 - val_acc: 0.8262\n",
      "Epoch 5/10\n",
      "25000/25000 [==============================] - 5s 202us/step - loss: 0.3585 - acc: 0.8458 - val_loss: 0.3791 - val_acc: 0.8318\n",
      "Epoch 6/10\n",
      "25000/25000 [==============================] - 5s 202us/step - loss: 0.3450 - acc: 0.8520 - val_loss: 0.3761 - val_acc: 0.8317\n",
      "Epoch 7/10\n",
      "25000/25000 [==============================] - 5s 203us/step - loss: 0.3337 - acc: 0.8591 - val_loss: 0.3793 - val_acc: 0.8289\n",
      "Epoch 8/10\n",
      "25000/25000 [==============================] - 5s 201us/step - loss: 0.3266 - acc: 0.8619 - val_loss: 0.3723 - val_acc: 0.8337\n",
      "Epoch 9/10\n",
      "25000/25000 [==============================] - 5s 203us/step - loss: 0.3204 - acc: 0.8645 - val_loss: 0.3757 - val_acc: 0.8352\n",
      "Epoch 10/10\n",
      "25000/25000 [==============================] - 5s 202us/step - loss: 0.3149 - acc: 0.8657 - val_loss: 0.3715 - val_acc: 0.8360\n",
      "Accuracy (epoch 10): 0.8657 train, 0.8360 val\n"
     ]
    }
   ],
   "source": [
    "from keras.layers import Activation, GlobalMaxPooling1D, Dense, Embedding, Input\n",
    "from keras.models import Model\n",
    "import numpy as np\n",
    "\n",
    "class GloveHiddenMaxSentimentModel(object):\n",
    "    def __init__(self, N=64):\n",
    "        self.model = self.create(N)\n",
    "        self.model.summary()\n",
    "        self.model.compile(optimizer='adam', loss='binary_crossentropy', metrics=['accuracy'])\n",
    "        \n",
    "    def create(self, N):\n",
    "        seq_indices = Input(shape=(seq_cutoff,), name='seq_input')                    \n",
    "        seq_embedded = Embedding(input_dim=len(vocab) + 1, output_dim=EMBEDDING_DIM, weights=[embedding_matrix],\n",
    "                                 input_length=seq_cutoff, trainable=False)(seq_indices)\n",
    "        seq_hidden = Dense(N, activation='tanh')(seq_embedded)\n",
    "        max_hidden = GlobalMaxPooling1D()(seq_hidden)\n",
    "        sentiment = Dense(1, activation='sigmoid')(max_hidden)\n",
    "\n",
    "        return Model(inputs=[seq_indices], outputs=[sentiment])\n",
    "\n",
    "    def train(self, X, y, X_val, y_val):\n",
    "        print('Fitting...')\n",
    "        return self.model.fit(np.array(X, dtype='int32'), y,\n",
    "                              validation_data=(np.array(X_val, dtype='int32'), y_val), epochs=10, verbose=1)\n",
    "\n",
    "    def predict(self, X):\n",
    "        return self.model.predict(np.array(X))\n",
    "    \n",
    "sentiment = GloveHiddenMaxSentimentModel()\n",
    "history = sentiment.train(X_indices_train, y_train, X_indices_val, y_val)\n",
    "best_train_history(history)"
   ]
  },
  {
   "cell_type": "markdown",
   "metadata": {
    "colab_type": "text",
    "id": "mSIrpXsu-9Sm"
   },
   "source": [
    "Ideas:\n",
    "  * Averaging rather than maximum?\n",
    "  * Do other N values make a difference?"
   ]
  },
  {
   "cell_type": "markdown",
   "metadata": {
    "colab_type": "text",
    "id": "l32vkRE8-9Sn"
   },
   "source": [
    "## Convolutions on sequences of embeddings"
   ]
  },
  {
   "cell_type": "code",
   "execution_count": 0,
   "metadata": {
    "colab": {},
    "colab_type": "code",
    "id": "mTTc1kwo-9So",
    "outputId": "699cb6a6-6a28-437c-8d22-8d3880a0052e",
    "scrolled": true
   },
   "outputs": [
    {
     "name": "stdout",
     "output_type": "stream",
     "text": [
      "_________________________________________________________________\n",
      "Layer (type)                 Output Shape              Param #   \n",
      "=================================================================\n",
      "seq_input (InputLayer)       (None, 458)               0         \n",
      "_________________________________________________________________\n",
      "embedding_3 (Embedding)      (None, 458, 50)           250050    \n",
      "_________________________________________________________________\n",
      "conv1d_1 (Conv1D)            (None, 456, 64)           9664      \n",
      "_________________________________________________________________\n",
      "global_max_pooling1d_2 (Glob (None, 64)                0         \n",
      "_________________________________________________________________\n",
      "dense_9 (Dense)              (None, 64)                4160      \n",
      "_________________________________________________________________\n",
      "dense_10 (Dense)             (None, 1)                 65        \n",
      "=================================================================\n",
      "Total params: 263,939\n",
      "Trainable params: 13,889\n",
      "Non-trainable params: 250,050\n",
      "_________________________________________________________________\n",
      "Fitting...\n",
      "['seq_input']\n",
      "['dense_10']\n",
      "['seq_input']\n",
      "['dense_10']\n",
      "Train on 25000 samples, validate on 25000 samples\n",
      "Epoch 1/10\n",
      "25000/25000 [==============================] - 6s 240us/step - loss: 0.4946 - acc: 0.7489 - val_loss: 0.4146 - val_acc: 0.8111\n",
      "Epoch 2/10\n",
      "25000/25000 [==============================] - 4s 168us/step - loss: 0.3692 - acc: 0.8385 - val_loss: 0.3745 - val_acc: 0.8340\n",
      "Epoch 3/10\n",
      "25000/25000 [==============================] - 4s 167us/step - loss: 0.3295 - acc: 0.8583 - val_loss: 0.4009 - val_acc: 0.8249\n",
      "Epoch 4/10\n",
      "25000/25000 [==============================] - 4s 167us/step - loss: 0.3007 - acc: 0.8734 - val_loss: 0.3925 - val_acc: 0.8296\n",
      "Epoch 5/10\n",
      "25000/25000 [==============================] - 4s 167us/step - loss: 0.2730 - acc: 0.8872 - val_loss: 0.3785 - val_acc: 0.8374\n",
      "Epoch 6/10\n",
      "25000/25000 [==============================] - 4s 168us/step - loss: 0.2498 - acc: 0.8979 - val_loss: 0.3955 - val_acc: 0.8358\n",
      "Epoch 7/10\n",
      "25000/25000 [==============================] - 4s 167us/step - loss: 0.2358 - acc: 0.9030 - val_loss: 0.4073 - val_acc: 0.8319\n",
      "Epoch 8/10\n",
      "25000/25000 [==============================] - 4s 168us/step - loss: 0.2138 - acc: 0.9129 - val_loss: 0.5104 - val_acc: 0.8086\n",
      "Epoch 9/10\n",
      "25000/25000 [==============================] - 4s 166us/step - loss: 0.2093 - acc: 0.9157 - val_loss: 0.4437 - val_acc: 0.8274\n",
      "Epoch 10/10\n",
      "25000/25000 [==============================] - 4s 168us/step - loss: 0.1935 - acc: 0.9227 - val_loss: 0.4514 - val_acc: 0.8310\n",
      "Accuracy (epoch 5): 0.8872 train, 0.8374 val\n"
     ]
    }
   ],
   "source": [
    "from keras.layers import Activation, Conv1D, Dense, Embedding, GlobalMaxPooling1D, Input\n",
    "from keras.models import Model\n",
    "import numpy as np\n",
    "\n",
    "class GloveCNNSentimentModel(object):\n",
    "    def __init__(self, N=64, size=3):\n",
    "        self.model = self.create(N, size)\n",
    "        self.model.summary()\n",
    "        self.model.compile(optimizer='adam', loss='binary_crossentropy', metrics=['accuracy'])\n",
    "        \n",
    "    def create(self, N, size):\n",
    "        seq_indices = Input(shape=(seq_cutoff,), name='seq_input') \n",
    "        seq_embedded = Embedding(input_dim=len(vocab) + 1, output_dim=EMBEDDING_DIM, weights=[embedding_matrix],\n",
    "                                 input_length=seq_cutoff, trainable=False)(seq_indices)\n",
    "        seq_conv = Conv1D(N, size, activation='tanh')(seq_embedded)\n",
    "        max_conv = GlobalMaxPooling1D()(seq_conv)\n",
    "        hidden_repr = Dense(N, activation='tanh')(max_conv)\n",
    "        sentiment = Dense(1, activation='sigmoid')(hidden_repr)\n",
    "\n",
    "        return Model(inputs=[seq_indices], outputs=[sentiment])\n",
    "\n",
    "    def train(self, X, y, X_val, y_val):\n",
    "        print('Fitting...')\n",
    "        return self.model.fit(np.array(X, dtype='int32'), y,\n",
    "                              validation_data=(np.array(X_val, dtype='int32'), y_val), epochs=10, verbose=1)\n",
    "\n",
    "    def predict(self, X):\n",
    "        return self.model.predict(np.array(X))\n",
    "    \n",
    "sentiment = GloveCNNSentimentModel()\n",
    "history = sentiment.train(X_indices_train, y_train, X_indices_val, y_val)\n",
    "best_train_history(history)"
   ]
  },
  {
   "cell_type": "markdown",
   "metadata": {
    "colab_type": "text",
    "id": "YwdxR4-K-9Su"
   },
   "source": [
    "This model still sucks.  What problems does it have?\n",
    "\n",
    "But the model below is awesome.  (Stolen from Keras' `examples/imdb_cnn.py`.)\n",
    "  * What are the differences to the model above?\n",
    "  * What exactly makes it so awesome?\n",
    "  * Did we beat the bag-of-words baseline yet?"
   ]
  },
  {
   "cell_type": "code",
   "execution_count": 0,
   "metadata": {
    "colab": {
     "base_uri": "https://localhost:8080/",
     "height": 799
    },
    "colab_type": "code",
    "id": "3J5yeVx5-9Sv",
    "outputId": "41181aa5-9c68-4247-ccf4-73ee950631a5",
    "scrolled": true
   },
   "outputs": [
    {
     "name": "stdout",
     "output_type": "stream",
     "text": [
      "_________________________________________________________________\n",
      "Layer (type)                 Output Shape              Param #   \n",
      "=================================================================\n",
      "seq_input (InputLayer)       (None, 458)               0         \n",
      "_________________________________________________________________\n",
      "embedding_7 (Embedding)      (None, 458, 50)           250050    \n",
      "_________________________________________________________________\n",
      "dropout_5 (Dropout)          (None, 458, 50)           0         \n",
      "_________________________________________________________________\n",
      "conv1d_4 (Conv1D)            (None, 456, 256)          38656     \n",
      "_________________________________________________________________\n",
      "global_max_pooling1d_5 (Glob (None, 256)               0         \n",
      "_________________________________________________________________\n",
      "dense_9 (Dense)              (None, 256)               65792     \n",
      "_________________________________________________________________\n",
      "dropout_6 (Dropout)          (None, 256)               0         \n",
      "_________________________________________________________________\n",
      "dense_10 (Dense)             (None, 1)                 257       \n",
      "=================================================================\n",
      "Total params: 354,755\n",
      "Trainable params: 354,755\n",
      "Non-trainable params: 0\n",
      "_________________________________________________________________\n",
      "Fitting...\n",
      "Train on 25000 samples, validate on 25000 samples\n",
      "Epoch 1/10\n",
      "25000/25000 [==============================] - 12s 473us/step - loss: 0.4135 - acc: 0.7934 - val_loss: 0.3009 - val_acc: 0.8726\n",
      "Epoch 2/10\n",
      "25000/25000 [==============================] - 11s 423us/step - loss: 0.2450 - acc: 0.9028 - val_loss: 0.2737 - val_acc: 0.8852\n",
      "Epoch 3/10\n",
      "25000/25000 [==============================] - 11s 425us/step - loss: 0.1769 - acc: 0.9316 - val_loss: 0.2845 - val_acc: 0.8875\n",
      "Epoch 4/10\n",
      "25000/25000 [==============================] - 11s 425us/step - loss: 0.1213 - acc: 0.9550 - val_loss: 0.3197 - val_acc: 0.8808\n",
      "Epoch 5/10\n",
      "25000/25000 [==============================] - 11s 423us/step - loss: 0.0846 - acc: 0.9682 - val_loss: 0.3408 - val_acc: 0.8839\n",
      "Epoch 6/10\n",
      "25000/25000 [==============================] - 11s 424us/step - loss: 0.0608 - acc: 0.9786 - val_loss: 0.4036 - val_acc: 0.8765\n",
      "Epoch 7/10\n",
      "25000/25000 [==============================] - 11s 424us/step - loss: 0.0508 - acc: 0.9817 - val_loss: 0.4670 - val_acc: 0.8781\n",
      "Epoch 8/10\n",
      "25000/25000 [==============================] - 11s 423us/step - loss: 0.0434 - acc: 0.9844 - val_loss: 0.4833 - val_acc: 0.8730\n",
      "Epoch 9/10\n",
      "25000/25000 [==============================] - 11s 423us/step - loss: 0.0378 - acc: 0.9866 - val_loss: 0.5276 - val_acc: 0.8780\n",
      "Epoch 10/10\n",
      "25000/25000 [==============================] - 11s 424us/step - loss: 0.0324 - acc: 0.9886 - val_loss: 0.5617 - val_acc: 0.8806\n",
      "Accuracy (epoch 3): 0.9316 train, 0.8875 val\n"
     ]
    }
   ],
   "source": [
    "from keras.layers import Activation, Conv1D, Dense, Dropout, Embedding, GlobalMaxPooling1D, Input\n",
    "from keras.models import Model\n",
    "import numpy as np\n",
    "\n",
    "class GloveCNNAwesomeSentimentModel(object):\n",
    "    def __init__(self, N=256, size=3):\n",
    "        self.model = self.create(N, size)\n",
    "        self.model.summary()\n",
    "        self.model.compile(optimizer='adam', loss='binary_crossentropy', metrics=['accuracy'])\n",
    "        \n",
    "    def create(self, N, size):\n",
    "        seq_indices = Input(shape=(seq_cutoff,), name='seq_input') \n",
    "        seq_embedded = Embedding(input_dim=len(vocab) + 1, output_dim=EMBEDDING_DIM,\n",
    "                                 input_length=seq_cutoff)(seq_indices)\n",
    "        seq_conv = Conv1D(N, size, activation='relu')(Dropout(0.2)(seq_embedded))\n",
    "        max_conv = GlobalMaxPooling1D()(seq_conv)\n",
    "        hidden_repr = Dense(N, activation='relu')(max_conv)\n",
    "        sentiment = Dense(1, activation='sigmoid')(Dropout(0.2)(hidden_repr))\n",
    "\n",
    "        return Model(inputs=[seq_indices], outputs=[sentiment])\n",
    "\n",
    "    def train(self, X, y, X_val, y_val):\n",
    "        print('Fitting...')\n",
    "        return self.model.fit(np.array(X, dtype='int32'), y,\n",
    "                              validation_data=(np.array(X_val, dtype='int32'), y_val), epochs=10, verbose=1)\n",
    "\n",
    "    def predict(self, X):\n",
    "        return self.model.predict(np.array(X))\n",
    "    \n",
    "sentiment = GloveCNNAwesomeSentimentModel()\n",
    "history = sentiment.train(X_indices_train, y_train, X_indices_val, y_val)\n",
    "best_train_history(history)"
   ]
  },
  {
   "cell_type": "markdown",
   "metadata": {
    "colab_type": "text",
    "id": "sQOd6dhh-9S8"
   },
   "source": [
    "Can we make the model more awesome yet?\n",
    "\n",
    "Ideas:\n",
    "  * So what about the Glove pretrained embeddings?\n",
    "  * Project the embeddings to a more convolution-friendly space?\n",
    "  * Average pooling instead of max?\n",
    "  * Is 300D embedding better?\n",
    "  \n",
    "Advanced ideas:\n",
    "  * What about _both_ average and max pooling?\n",
    "  * `relu` activation is popular in computer vision CNNs instead of `tanh`.\n",
    "  * Some people recommend `rmsprop` optimizer rather than `adam` for CNNs. Does it matter?"
   ]
  },
  {
   "cell_type": "markdown",
   "metadata": {
    "colab_type": "text",
    "id": "fcuz_-sZ-9S9"
   },
   "source": [
    "## Recurrence on sequences of embeddings"
   ]
  },
  {
   "cell_type": "code",
   "execution_count": 0,
   "metadata": {
    "colab": {},
    "colab_type": "code",
    "id": "BWQFFtaz-9S_",
    "outputId": "c95af15b-a8fe-4358-ec29-26db406b69f5",
    "scrolled": true
   },
   "outputs": [
    {
     "name": "stdout",
     "output_type": "stream",
     "text": [
      "_________________________________________________________________\n",
      "Layer (type)                 Output Shape              Param #   \n",
      "=================================================================\n",
      "seq_input (InputLayer)       (None, 458)               0         \n",
      "_________________________________________________________________\n",
      "embedding_5 (Embedding)      (None, 458, 50)           250050    \n",
      "_________________________________________________________________\n",
      "gru_1 (GRU)                  (None, 64)                22080     \n",
      "_________________________________________________________________\n",
      "dense_13 (Dense)             (None, 1)                 65        \n",
      "=================================================================\n",
      "Total params: 272,195\n",
      "Trainable params: 22,145\n",
      "Non-trainable params: 250,050\n",
      "_________________________________________________________________\n",
      "Fitting...\n",
      "['seq_input']\n",
      "['dense_13']\n",
      "['seq_input']\n",
      "['dense_13']\n",
      "Train on 25000 samples, validate on 25000 samples\n",
      "Epoch 1/10\n",
      "25000/25000 [==============================] - 540s 22ms/step - loss: 0.6910 - acc: 0.5092 - val_loss: 0.6826 - val_acc: 0.5236\n",
      "Epoch 2/10\n",
      "25000/25000 [==============================] - 536s 21ms/step - loss: 0.5446 - acc: 0.6851 - val_loss: 0.4029 - val_acc: 0.8170\n",
      "Epoch 3/10\n",
      "25000/25000 [==============================] - 527s 21ms/step - loss: 0.3816 - acc: 0.8287 - val_loss: 0.3633 - val_acc: 0.8353\n",
      "Epoch 4/10\n",
      "25000/25000 [==============================] - 527s 21ms/step - loss: 0.3472 - acc: 0.8488 - val_loss: 0.3377 - val_acc: 0.8502\n",
      "Epoch 5/10\n",
      "25000/25000 [==============================] - 518s 21ms/step - loss: 0.3239 - acc: 0.8586 - val_loss: 0.3275 - val_acc: 0.8560\n",
      "Epoch 6/10\n",
      "25000/25000 [==============================] - 523s 21ms/step - loss: 0.3009 - acc: 0.8702 - val_loss: 0.3432 - val_acc: 0.8504\n",
      "Epoch 7/10\n",
      "25000/25000 [==============================] - 526s 21ms/step - loss: 0.2890 - acc: 0.8768 - val_loss: 0.3201 - val_acc: 0.8607\n",
      "Epoch 8/10\n",
      "25000/25000 [==============================] - 520s 21ms/step - loss: 0.2680 - acc: 0.8852 - val_loss: 0.3279 - val_acc: 0.8537\n",
      "Epoch 9/10\n",
      "25000/25000 [==============================] - 524s 21ms/step - loss: 0.2549 - acc: 0.8939 - val_loss: 0.3133 - val_acc: 0.8665\n",
      "Epoch 10/10\n",
      "25000/25000 [==============================] - 529s 21ms/step - loss: 0.2428 - acc: 0.9001 - val_loss: 0.3242 - val_acc: 0.8631\n",
      "Accuracy (epoch 9): 0.8939 train, 0.8665 val\n"
     ]
    }
   ],
   "source": [
    "from keras.layers import Activation, Dense, Embedding, GRU, Input\n",
    "from keras.models import Model\n",
    "import numpy as np\n",
    "\n",
    "class GloveGRUSentimentModel(object):\n",
    "    def __init__(self, N=64):\n",
    "        self.model = self.create(N)\n",
    "        self.model.summary()\n",
    "        self.model.compile(optimizer='adam', loss='binary_crossentropy', metrics=['accuracy'])\n",
    "        \n",
    "    def create(self, N):\n",
    "        seq_indices = Input(shape=(seq_cutoff,), name='seq_input') \n",
    "        seq_embedded = Embedding(input_dim=len(vocab) + 1, output_dim=EMBEDDING_DIM, weights=[embedding_matrix],\n",
    "                                 input_length=seq_cutoff, trainable=False)(seq_indices)\n",
    "        recursive_repr = GRU(N)(seq_embedded)\n",
    "        sentiment = Dense(1, activation='sigmoid')(recursive_repr)\n",
    "\n",
    "        return Model(inputs=[seq_indices], outputs=[sentiment])\n",
    "\n",
    "    def train(self, X, y, X_val, y_val):\n",
    "        print('Fitting...')\n",
    "        return self.model.fit(np.array(X, dtype='int32'), y,\n",
    "                              validation_data=(np.array(X_val, dtype='int32'), y_val), epochs=10, verbose=1)\n",
    "\n",
    "    def predict(self, X):\n",
    "        return self.model.predict(np.array(X))\n",
    "    \n",
    "sentiment = GloveGRUSentimentModel()\n",
    "history = sentiment.train(X_indices_train, y_train, X_indices_val, y_val)\n",
    "best_train_history(history)"
   ]
  },
  {
   "cell_type": "markdown",
   "metadata": {
    "colab_type": "text",
    "id": "utKczfdI-9TE"
   },
   "source": [
    "If you take the time to train the model, it seems to really suck after the first epoch.  What could be the problem?  (Imagine the input, and how the RNN processes it.)"
   ]
  },
  {
   "cell_type": "markdown",
   "metadata": {
    "colab_type": "text",
    "id": "9ey9CBLy-9TF"
   },
   "source": [
    "The model below fixes the problem - how?  What is the most essential change?"
   ]
  },
  {
   "cell_type": "code",
   "execution_count": 0,
   "metadata": {
    "colab": {
     "base_uri": "https://localhost:8080/",
     "height": 663
    },
    "colab_type": "code",
    "id": "ObCeEzVF-9TI",
    "outputId": "51b6dfe9-115c-4651-d2f3-a890454a970a",
    "scrolled": true
   },
   "outputs": [
    {
     "name": "stdout",
     "output_type": "stream",
     "text": [
      "_________________________________________________________________\n",
      "Layer (type)                 Output Shape              Param #   \n",
      "=================================================================\n",
      "seq_input (InputLayer)       (None, 458)               0         \n",
      "_________________________________________________________________\n",
      "embedding_5 (Embedding)      (None, 458, 50)           250050    \n",
      "_________________________________________________________________\n",
      "bidirectional_1 (Bidirection (None, 128)               44160     \n",
      "_________________________________________________________________\n",
      "dense_7 (Dense)              (None, 1)                 129       \n",
      "=================================================================\n",
      "Total params: 294,339\n",
      "Trainable params: 294,339\n",
      "Non-trainable params: 0\n",
      "_________________________________________________________________\n",
      "Fitting...\n",
      "Train on 25000 samples, validate on 25000 samples\n",
      "Epoch 1/10\n",
      "25000/25000 [==============================] - 521s 21ms/step - loss: 0.5254 - acc: 0.7247 - val_loss: 0.3838 - val_acc: 0.8291\n",
      "Epoch 2/10\n",
      "25000/25000 [==============================] - 497s 20ms/step - loss: 0.3072 - acc: 0.8692 - val_loss: 0.2909 - val_acc: 0.8767\n",
      "Epoch 3/10\n",
      "25000/25000 [==============================] - 532s 21ms/step - loss: 0.2492 - acc: 0.8980 - val_loss: 0.2832 - val_acc: 0.8790\n",
      "Epoch 4/10\n",
      "25000/25000 [==============================] - 549s 22ms/step - loss: 0.2134 - acc: 0.9140 - val_loss: 0.2815 - val_acc: 0.8859\n",
      "Epoch 5/10\n",
      "25000/25000 [==============================] - 486s 19ms/step - loss: 0.1836 - acc: 0.9295 - val_loss: 0.2887 - val_acc: 0.8841\n",
      "Epoch 6/10\n",
      "25000/25000 [==============================] - 482s 19ms/step - loss: 0.1501 - acc: 0.9450 - val_loss: 0.3090 - val_acc: 0.8808\n",
      "Epoch 7/10\n",
      "25000/25000 [==============================] - 483s 19ms/step - loss: 0.1202 - acc: 0.9570 - val_loss: 0.3675 - val_acc: 0.8769\n",
      "Epoch 8/10\n",
      "25000/25000 [==============================] - 485s 19ms/step - loss: 0.0923 - acc: 0.9682 - val_loss: 0.3865 - val_acc: 0.8779\n",
      "Epoch 9/10\n",
      "25000/25000 [==============================] - 485s 19ms/step - loss: 0.0646 - acc: 0.9802 - val_loss: 0.5555 - val_acc: 0.8564\n",
      "Epoch 10/10\n",
      "25000/25000 [==============================] - 485s 19ms/step - loss: 0.0442 - acc: 0.9870 - val_loss: 0.5043 - val_acc: 0.8708\n",
      "Accuracy (epoch 4): 0.9140 train, 0.8859 val\n"
     ]
    }
   ],
   "source": [
    "from keras.layers import Activation, Bidirectional, Dense, Embedding, GRU, Input\n",
    "from keras.models import Model\n",
    "import numpy as np\n",
    "\n",
    "class GloveGRUSentimentModel(object):\n",
    "    def __init__(self, N=64):\n",
    "        self.model = self.create(N)\n",
    "        self.model.summary()\n",
    "        self.model.compile(optimizer='adam', loss='binary_crossentropy', metrics=['accuracy'])\n",
    "        \n",
    "    def create(self, N):\n",
    "        seq_indices = Input(shape=(seq_cutoff,), name='seq_input') \n",
    "        seq_embedded = Embedding(input_dim=len(vocab) + 1, output_dim=EMBEDDING_DIM, weights=[embedding_matrix],\n",
    "                                 input_length=seq_cutoff, mask_zero=True)(seq_indices)\n",
    "        recursive_repr = Bidirectional(GRU(N))(seq_embedded)\n",
    "        sentiment = Dense(1, activation='sigmoid')(recursive_repr)\n",
    "\n",
    "        return Model(inputs=[seq_indices], outputs=[sentiment])\n",
    "\n",
    "    def train(self, X, y, X_val, y_val):\n",
    "        print('Fitting...')\n",
    "        return self.model.fit(np.array(X, dtype='int32'), y,\n",
    "                              validation_data=(np.array(X_val, dtype='int32'), y_val), epochs=10, verbose=1,\n",
    "                             batch_size=128)\n",
    "\n",
    "    def predict(self, X):\n",
    "        return self.model.predict(np.array(X))\n",
    "    \n",
    "sentiment = GloveGRUSentimentModel()\n",
    "history = sentiment.train(X_indices_train, y_train, X_indices_val, y_val)\n",
    "best_train_history(history)"
   ]
  },
  {
   "cell_type": "markdown",
   "metadata": {
    "colab_type": "text",
    "id": "TCXUIMyN-9TO"
   },
   "source": [
    "We are overfitting.  Can we improve generalization?\n",
    "\n",
    "Ideas:\n",
    "  * `GRU(N, return_sequence=True)` would return a single output element for each input element, rather than a single output for the whole sequence.  What cool things could we use this for?\n",
    "  * Any ideas to borrow from CNNs?\n",
    "  * Could we stack multiple GRUs on top of each other?"
   ]
  },
  {
   "cell_type": "markdown",
   "metadata": {
    "colab_type": "text",
    "id": "y6PUAKrA-9TR"
   },
   "source": [
    "## Combining CNN and GRU"
   ]
  },
  {
   "cell_type": "markdown",
   "metadata": {
    "colab_type": "text",
    "id": "YsXZBfAa-9TT"
   },
   "source": [
    "Let's go wild and take a look at an even more advanced model combining several ideas.  Can you explain what's going on here? Is this madness worth it? Which further improvements might be most desirable to test?"
   ]
  },
  {
   "cell_type": "code",
   "execution_count": 0,
   "metadata": {
    "colab": {
     "base_uri": "https://localhost:8080/",
     "height": 921
    },
    "colab_type": "code",
    "id": "HP3eGl6d-9TU",
    "outputId": "61a7aaef-6eef-4911-d40a-e4e81c5f7764"
   },
   "outputs": [
    {
     "name": "stdout",
     "output_type": "stream",
     "text": [
      "__________________________________________________________________________________________________\n",
      "Layer (type)                    Output Shape         Param #     Connected to                     \n",
      "==================================================================================================\n",
      "seq_input (InputLayer)          (None, 458)          0                                            \n",
      "__________________________________________________________________________________________________\n",
      "embedding_6 (Embedding)         (None, 458, 50)      250050      seq_input[0][0]                  \n",
      "__________________________________________________________________________________________________\n",
      "dropout_3 (Dropout)             (None, 458, 50)      0           embedding_6[0][0]                \n",
      "__________________________________________________________________________________________________\n",
      "dense_8 (Dense)                 (None, 458, 64)      3264        dropout_3[0][0]                  \n",
      "__________________________________________________________________________________________________\n",
      "dropout_4 (Dropout)             (None, 458, 64)      0           dense_8[0][0]                    \n",
      "__________________________________________________________________________________________________\n",
      "conv1d_3 (Conv1D)               (None, 458, 64)      12352       dropout_4[0][0]                  \n",
      "__________________________________________________________________________________________________\n",
      "add_1 (Add)                     (None, 458, 64)      0           dense_8[0][0]                    \n",
      "                                                                 conv1d_3[0][0]                   \n",
      "__________________________________________________________________________________________________\n",
      "global_max_pooling1d_4 (GlobalM (None, 64)           0           add_1[0][0]                      \n",
      "__________________________________________________________________________________________________\n",
      "bidirectional_2 (Bidirectional) (None, 128)          49536       add_1[0][0]                      \n",
      "__________________________________________________________________________________________________\n",
      "sentiment_by_hidden (Dense)     (None, 1)            65          global_max_pooling1d_4[0][0]     \n",
      "__________________________________________________________________________________________________\n",
      "sentiment (Dense)               (None, 1)            129         bidirectional_2[0][0]            \n",
      "==================================================================================================\n",
      "Total params: 315,396\n",
      "Trainable params: 315,396\n",
      "Non-trainable params: 0\n",
      "__________________________________________________________________________________________________\n",
      "Fitting...\n",
      "Train on 25000 samples, validate on 25000 samples\n",
      "Epoch 1/10\n",
      "25000/25000 [==============================] - 1579s 63ms/step - loss: 0.6020 - sentiment_by_hidden_loss: 0.5352 - sentiment_loss: 0.4950 - sentiment_by_hidden_acc: 0.7292 - sentiment_acc: 0.7383 - val_loss: 0.4098 - val_sentiment_by_hidden_loss: 0.3887 - val_sentiment_loss: 0.3321 - val_sentiment_by_hidden_acc: 0.8300 - val_sentiment_acc: 0.8538\n",
      "Epoch 2/10\n",
      "25000/25000 [==============================] - 1586s 63ms/step - loss: 0.3968 - sentiment_by_hidden_loss: 0.3759 - sentiment_loss: 0.3216 - sentiment_by_hidden_acc: 0.8371 - sentiment_acc: 0.8612 - val_loss: 0.3544 - val_sentiment_by_hidden_loss: 0.3427 - val_sentiment_loss: 0.2858 - val_sentiment_by_hidden_acc: 0.8563 - val_sentiment_acc: 0.8806\n",
      "Epoch 3/10\n",
      "25000/25000 [==============================] - 1575s 63ms/step - loss: 0.3372 - sentiment_by_hidden_loss: 0.3299 - sentiment_loss: 0.2712 - sentiment_by_hidden_acc: 0.8620 - sentiment_acc: 0.8868 - val_loss: 0.3335 - val_sentiment_by_hidden_loss: 0.3190 - val_sentiment_loss: 0.2697 - val_sentiment_by_hidden_acc: 0.8661 - val_sentiment_acc: 0.8875\n",
      "Epoch 4/10\n",
      "25000/25000 [==============================] - 1576s 63ms/step - loss: 0.3079 - sentiment_by_hidden_loss: 0.3031 - sentiment_loss: 0.2472 - sentiment_by_hidden_acc: 0.8758 - sentiment_acc: 0.8981 - val_loss: 0.3202 - val_sentiment_by_hidden_loss: 0.3120 - val_sentiment_loss: 0.2578 - val_sentiment_by_hidden_acc: 0.8701 - val_sentiment_acc: 0.8923\n",
      "Epoch 5/10\n",
      "25000/25000 [==============================] - 1599s 64ms/step - loss: 0.2792 - sentiment_by_hidden_loss: 0.2844 - sentiment_loss: 0.2223 - sentiment_by_hidden_acc: 0.8860 - sentiment_acc: 0.9106 - val_loss: 0.3260 - val_sentiment_by_hidden_loss: 0.3095 - val_sentiment_loss: 0.2641 - val_sentiment_by_hidden_acc: 0.8736 - val_sentiment_acc: 0.8940\n",
      "Epoch 6/10\n",
      "25000/25000 [==============================] - 1599s 64ms/step - loss: 0.2606 - sentiment_by_hidden_loss: 0.2742 - sentiment_loss: 0.2057 - sentiment_by_hidden_acc: 0.8914 - sentiment_acc: 0.9183 - val_loss: 0.3323 - val_sentiment_by_hidden_loss: 0.3177 - val_sentiment_loss: 0.2688 - val_sentiment_by_hidden_acc: 0.8707 - val_sentiment_acc: 0.8906\n",
      "Epoch 7/10\n",
      "25000/25000 [==============================] - 1590s 64ms/step - loss: 0.2376 - sentiment_by_hidden_loss: 0.2579 - sentiment_loss: 0.1861 - sentiment_by_hidden_acc: 0.8975 - sentiment_acc: 0.9270 - val_loss: 0.3456 - val_sentiment_by_hidden_loss: 0.3261 - val_sentiment_loss: 0.2803 - val_sentiment_by_hidden_acc: 0.8722 - val_sentiment_acc: 0.8895\n",
      "Epoch 8/10\n",
      "25000/25000 [==============================] - 1595s 64ms/step - loss: 0.2198 - sentiment_by_hidden_loss: 0.2481 - sentiment_loss: 0.1701 - sentiment_by_hidden_acc: 0.9006 - sentiment_acc: 0.9347 - val_loss: 0.3974 - val_sentiment_by_hidden_loss: 0.3508 - val_sentiment_loss: 0.3272 - val_sentiment_by_hidden_acc: 0.8609 - val_sentiment_acc: 0.8686\n",
      "Epoch 9/10\n",
      "25000/25000 [==============================] - 1595s 64ms/step - loss: 0.2062 - sentiment_by_hidden_loss: 0.2406 - sentiment_loss: 0.1581 - sentiment_by_hidden_acc: 0.9063 - sentiment_acc: 0.9396 - val_loss: 0.3626 - val_sentiment_by_hidden_loss: 0.3251 - val_sentiment_loss: 0.2976 - val_sentiment_by_hidden_acc: 0.8710 - val_sentiment_acc: 0.8911\n",
      "Epoch 10/10\n",
      "25000/25000 [==============================] - 1600s 64ms/step - loss: 0.1981 - sentiment_by_hidden_loss: 0.2370 - sentiment_loss: 0.1507 - sentiment_by_hidden_acc: 0.9062 - sentiment_acc: 0.9420 - val_loss: 0.3471 - val_sentiment_by_hidden_loss: 0.3243 - val_sentiment_loss: 0.2823 - val_sentiment_by_hidden_acc: 0.8716 - val_sentiment_acc: 0.8924\n"
     ]
    }
   ],
   "source": [
    "from keras.layers import Activation, Bidirectional, Conv1D, Dense, Embedding, GlobalMaxPooling1D, GRU, Input, add\n",
    "from keras.models import Model\n",
    "import numpy as np\n",
    "\n",
    "class GloveCNNGRUSISentimentModel(object):\n",
    "    def __init__(self, N=64, size=3):\n",
    "        self.model = self.create(N, size)\n",
    "        self.model.summary()\n",
    "        self.model.compile(optimizer='adam', loss='binary_crossentropy', loss_weights=[0.2, 1.0], metrics=['accuracy'])\n",
    "        \n",
    "    def create(self, N, size):\n",
    "        seq_indices = Input(shape=(seq_cutoff,), name='seq_input') \n",
    "        seq_embedded = Embedding(input_dim=len(vocab) + 1, output_dim=EMBEDDING_DIM, weights=[embedding_matrix],\n",
    "                                 input_length=seq_cutoff)(seq_indices)\n",
    "        seq_hidden = Dense(N, activation='tanh')(Dropout(0.2)(seq_embedded))\n",
    "        \n",
    "        seq_conv = Conv1D(N, size, activation='tanh', padding='same')(Dropout(0.2)(seq_hidden))\n",
    "        # Residual skip-connection: The convolution just fine-tunes per-word Dense projection.\n",
    "        seq_hidden = add([seq_hidden, seq_conv])\n",
    "        \n",
    "        recursive_repr = Bidirectional(GRU(N))(seq_hidden)\n",
    "        sentiment = Dense(1, activation='sigmoid', name='sentiment')(recursive_repr)\n",
    "        \n",
    "        # Inception: Also try to make even the hidden representation good enough to predict sentiment.\n",
    "        max_hidden = GlobalMaxPooling1D()(seq_hidden)\n",
    "        sentiment_by_hidden = Dense(1, activation='sigmoid', name='sentiment_by_hidden')(max_hidden)\n",
    "\n",
    "        return Model(inputs=[seq_indices], outputs=[sentiment_by_hidden, sentiment])\n",
    "\n",
    "    def train(self, X, y, X_val, y_val):\n",
    "        print('Fitting...')\n",
    "        return self.model.fit(np.array(X, dtype='int32'), [np.array(y), np.array(y)],\n",
    "                              validation_data=(np.array(X_val, dtype='int32'),\n",
    "                                               [np.array(y_val), np.array(y_val)]),\n",
    "                              epochs=10, verbose=1)\n",
    "\n",
    "    def predict(self, X):\n",
    "        return self.model.predict(np.array(X))[-1:]\n",
    "    \n",
    "sentiment = GloveCNNGRUSISentimentModel()\n",
    "history = sentiment.train(X_indices_train, y_train, X_indices_val, y_val)"
   ]
  },
  {
   "cell_type": "markdown",
   "metadata": {
    "colab_type": "text",
    "id": "MBr6-9Z--9Td"
   },
   "source": [
    "Can we do even better? Yes - let's look at the literature.\n",
    "\n",
    "![image.png](attachment:image.png)\n",
    "\n",
    "...and https://arxiv.org/pdf/1605.07725.pdf (source of table above; 5.91%)"
   ]
  },
  {
   "cell_type": "markdown",
   "metadata": {
    "colab_type": "text",
    "id": "5WxfIXq0-9Te"
   },
   "source": [
    "Final challenge: What common idea is shared by all of the best models? Can you implement one of them based on what you learned today?"
   ]
  },
  {
   "cell_type": "code",
   "execution_count": 0,
   "metadata": {
    "colab": {},
    "colab_type": "code",
    "id": "OqWwaj-r-9Tf"
   },
   "outputs": [],
   "source": []
  }
 ],
 "metadata": {
  "accelerator": "GPU",
  "colab": {
   "collapsed_sections": [
    "DtUaOoZf-9RC",
    "f56NxPuV-9SZ"
   ],
   "name": "MLPrague19 IMDB Sentiment.ipynb",
   "provenance": [],
   "version": "0.3.2"
  },
  "kernelspec": {
   "display_name": "Python 3",
   "language": "python",
   "name": "python3"
  },
  "language_info": {
   "codemirror_mode": {
    "name": "ipython",
    "version": 3
   },
   "file_extension": ".py",
   "mimetype": "text/x-python",
   "name": "python",
   "nbconvert_exporter": "python",
   "pygments_lexer": "ipython3",
   "version": "3.7.1"
  }
 },
 "nbformat": 4,
 "nbformat_minor": 1
}
